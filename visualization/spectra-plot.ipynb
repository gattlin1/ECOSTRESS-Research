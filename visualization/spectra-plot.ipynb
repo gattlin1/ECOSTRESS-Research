{
 "cells": [
  {
   "cell_type": "code",
   "execution_count": 13,
   "metadata": {},
   "outputs": [],
   "source": [
    "import numpy as np\n",
    "import pandas as pd\n",
    "from matplotlib import pyplot as plt\n",
    "import os"
   ]
  },
  {
   "cell_type": "code",
   "execution_count": null,
   "metadata": {},
   "outputs": [],
   "source": [
    "def plot(data, name):\n",
    "    plt.figure(figsize=(12, 6));\n",
    "    plt.plot(dataset['Wavenumber'], dataset['Absorbance'])\n",
    "    plt.ylabel(dataset.columns[1])\n",
    "    plt.xlabel(dataset.columns[0])\n",
    "    plt.title(name)\n",
    "    plt.savefig(name + '.png')\n",
    "    plt.show()\n",
    "\n",
    "path = '../spectra/nlc_spectra' \n",
    "\n",
    "files = os.listdir(path)\n",
    "files = [i for i in files if i.endswith('.csv')]\n",
    "\n",
    "for file in files:\n",
    "    filepath = path + '/' + file\n",
    "    spectra = file.split('.')[0]\n",
    "    dataset = pd.read_csv(filepath, names=['Wavenumber', 'Absorbance'], header=None)\n",
    "    plot(dataset, spectra)\n",
    "    "
   ]
  },
  {
   "cell_type": "code",
   "execution_count": null,
   "metadata": {},
   "outputs": [],
   "source": []
  }
 ],
 "metadata": {
  "kernelspec": {
   "display_name": "Python 3",
   "language": "python",
   "name": "python3"
  },
  "language_info": {
   "codemirror_mode": {
    "name": "ipython",
    "version": 3
   },
   "file_extension": ".py",
   "mimetype": "text/x-python",
   "name": "python",
   "nbconvert_exporter": "python",
   "pygments_lexer": "ipython3",
   "version": "3.7.3"
  }
 },
 "nbformat": 4,
 "nbformat_minor": 2
}
